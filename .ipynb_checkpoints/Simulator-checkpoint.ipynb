{
 "cells": [
  {
   "cell_type": "code",
   "execution_count": 1,
   "metadata": {},
   "outputs": [],
   "source": [
    "class Car:\n",
    "    \n",
    "    wheelbase = 2.5 \n",
    "    track = 1.5\n",
    "    cg = (0.75, 1.25, 0.5)\n",
    "    eng_I = 10 # powertrain moment of inertia\n",
    "    eng_res = 1 # powertrain resistance torque\n",
    "    \n",
    "    def __init__(self, start_pose):\n",
    "        # Pose\n",
    "        self.x = start_pose[0]\n",
    "        self.y = start_pose[1]\n",
    "        self.yaw = start_pose[3] # Heading\n",
    "        \n",
    "        self.vel = 0 # Velocity in direction of heading\n",
    "        self.dyaw = 0 # Heading rate       \n",
    "\n",
    "        self.phi = 0 # Skid angle\n",
    "        self.dphi = 0 # Skid angle rate\n",
    "        \n",
    "        # Wheel forces\n",
    "        self.tau = [0,0,0,0] # Net torque at each wheel\n",
    "        self.fnet = [0,0,0,0] # Net force at each wheel contact\n",
    "        self.theta = [0,0,0,0] # Force direction at each wheel\n",
    "        self.slipr = [0,0,0,0] # Slip ratio at each wheel\n",
    "        \n",
    "        self.eng_rpm = 0\n",
    "        self.eng_tau = 0\n",
    "        self.rpms = [0,0,0,0]\n",
    "        \n",
    "    def step(self, steer_cmd, eng_pwr_cmd, brake_tau):\n",
    "        #limit deltas of each input\n",
    "        pass\n",
    "    \n",
    "    def getState(self):\n",
    "        return (self.x, self.y, self.yaw, self.vel)"
   ]
  },
  {
   "cell_type": "code",
   "execution_count": null,
   "metadata": {},
   "outputs": [],
   "source": []
  }
 ],
 "metadata": {
  "kernelspec": {
   "display_name": "Python 3",
   "language": "python",
   "name": "python3"
  },
  "language_info": {
   "codemirror_mode": {
    "name": "ipython",
    "version": 3
   },
   "file_extension": ".py",
   "mimetype": "text/x-python",
   "name": "python",
   "nbconvert_exporter": "python",
   "pygments_lexer": "ipython3",
   "version": "3.7.3"
  }
 },
 "nbformat": 4,
 "nbformat_minor": 2
}
